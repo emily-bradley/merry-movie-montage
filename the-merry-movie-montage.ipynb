{
 "cells": [
  {
   "cell_type": "markdown",
   "metadata": {},
   "source": [
    "# The Merry Movie Montage\n",
    "\n",
    "The goal is to come up with the shortest string that contains all permutations of these characters: 🎅🤶🦌🧝🎁🎄🎀\n",
    "\n",
    "https://www.kaggle.com/c/santa-2021/data"
   ]
  },
  {
   "cell_type": "code",
   "execution_count": 1,
   "metadata": {
    "_cell_guid": "b1076dfc-b9ad-4769-8c92-a6c4dae69d19",
    "_uuid": "8f2839f25d086af736a60e9eeb907d3b93b6e0e5",
    "execution": {
     "iopub.execute_input": "2021-11-21T22:08:35.762169Z",
     "iopub.status.busy": "2021-11-21T22:08:35.761788Z",
     "iopub.status.idle": "2021-11-21T22:08:35.792403Z",
     "shell.execute_reply": "2021-11-21T22:08:35.791703Z",
     "shell.execute_reply.started": "2021-11-21T22:08:35.762073Z"
    }
   },
   "outputs": [],
   "source": [
    "import numpy as np \n",
    "import pandas as pd \n",
    "import math\n",
    "import operator\n",
    "import time\n",
    "\n",
    "import os\n",
    "for dirname, _, filenames in os.walk('/kaggle/input'):\n",
    "    for filename in filenames:\n",
    "        print(os.path.join(dirname, filename))"
   ]
  },
  {
   "cell_type": "markdown",
   "metadata": {},
   "source": [
    "# The Data Provided\n",
    "Let's explore the data that we are given.\n",
    "We have a list of all possible permutations of the symbols. There are 5,040 different combinations."
   ]
  },
  {
   "cell_type": "code",
   "execution_count": 2,
   "metadata": {
    "execution": {
     "iopub.execute_input": "2021-11-21T22:09:48.610654Z",
     "iopub.status.busy": "2021-11-21T22:09:48.610349Z",
     "iopub.status.idle": "2021-11-21T22:09:48.647207Z",
     "shell.execute_reply": "2021-11-21T22:09:48.646473Z",
     "shell.execute_reply.started": "2021-11-21T22:09:48.610622Z"
    }
   },
   "outputs": [
    {
     "ename": "FileNotFoundError",
     "evalue": "[Errno 2] No such file or directory: '/kaggle/input/santa-2021/permutations.csv'",
     "output_type": "error",
     "traceback": [
      "\u001b[0;31m---------------------------------------------------------------------------\u001b[0m",
      "\u001b[0;31mFileNotFoundError\u001b[0m                         Traceback (most recent call last)",
      "\u001b[0;32m<ipython-input-2-3f4e9f9d3bd3>\u001b[0m in \u001b[0;36m<module>\u001b[0;34m\u001b[0m\n\u001b[0;32m----> 1\u001b[0;31m \u001b[0mpermutations\u001b[0m \u001b[0;34m=\u001b[0m \u001b[0mpd\u001b[0m\u001b[0;34m.\u001b[0m\u001b[0mread_csv\u001b[0m\u001b[0;34m(\u001b[0m\u001b[0;34m'/kaggle/input/santa-2021/permutations.csv'\u001b[0m\u001b[0;34m)\u001b[0m\u001b[0;34m\u001b[0m\u001b[0;34m\u001b[0m\u001b[0m\n\u001b[0m\u001b[1;32m      2\u001b[0m \u001b[0mprint\u001b[0m\u001b[0;34m(\u001b[0m\u001b[0mpermutations\u001b[0m\u001b[0;34m.\u001b[0m\u001b[0mhead\u001b[0m\u001b[0;34m(\u001b[0m\u001b[0;36m122\u001b[0m\u001b[0;34m)\u001b[0m\u001b[0;34m)\u001b[0m\u001b[0;34m\u001b[0m\u001b[0;34m\u001b[0m\u001b[0m\n\u001b[1;32m      3\u001b[0m \u001b[0mprint\u001b[0m\u001b[0;34m(\u001b[0m\u001b[0mlen\u001b[0m\u001b[0;34m(\u001b[0m\u001b[0mpermutations\u001b[0m\u001b[0;34m)\u001b[0m\u001b[0;34m)\u001b[0m\u001b[0;34m\u001b[0m\u001b[0;34m\u001b[0m\u001b[0m\n",
      "\u001b[0;32m~/opt/anaconda3/lib/python3.8/site-packages/pandas/io/parsers.py\u001b[0m in \u001b[0;36mread_csv\u001b[0;34m(filepath_or_buffer, sep, delimiter, header, names, index_col, usecols, squeeze, prefix, mangle_dupe_cols, dtype, engine, converters, true_values, false_values, skipinitialspace, skiprows, skipfooter, nrows, na_values, keep_default_na, na_filter, verbose, skip_blank_lines, parse_dates, infer_datetime_format, keep_date_col, date_parser, dayfirst, cache_dates, iterator, chunksize, compression, thousands, decimal, lineterminator, quotechar, quoting, doublequote, escapechar, comment, encoding, dialect, error_bad_lines, warn_bad_lines, delim_whitespace, low_memory, memory_map, float_precision, storage_options)\u001b[0m\n\u001b[1;32m    608\u001b[0m     \u001b[0mkwds\u001b[0m\u001b[0;34m.\u001b[0m\u001b[0mupdate\u001b[0m\u001b[0;34m(\u001b[0m\u001b[0mkwds_defaults\u001b[0m\u001b[0;34m)\u001b[0m\u001b[0;34m\u001b[0m\u001b[0;34m\u001b[0m\u001b[0m\n\u001b[1;32m    609\u001b[0m \u001b[0;34m\u001b[0m\u001b[0m\n\u001b[0;32m--> 610\u001b[0;31m     \u001b[0;32mreturn\u001b[0m \u001b[0m_read\u001b[0m\u001b[0;34m(\u001b[0m\u001b[0mfilepath_or_buffer\u001b[0m\u001b[0;34m,\u001b[0m \u001b[0mkwds\u001b[0m\u001b[0;34m)\u001b[0m\u001b[0;34m\u001b[0m\u001b[0;34m\u001b[0m\u001b[0m\n\u001b[0m\u001b[1;32m    611\u001b[0m \u001b[0;34m\u001b[0m\u001b[0m\n\u001b[1;32m    612\u001b[0m \u001b[0;34m\u001b[0m\u001b[0m\n",
      "\u001b[0;32m~/opt/anaconda3/lib/python3.8/site-packages/pandas/io/parsers.py\u001b[0m in \u001b[0;36m_read\u001b[0;34m(filepath_or_buffer, kwds)\u001b[0m\n\u001b[1;32m    460\u001b[0m \u001b[0;34m\u001b[0m\u001b[0m\n\u001b[1;32m    461\u001b[0m     \u001b[0;31m# Create the parser.\u001b[0m\u001b[0;34m\u001b[0m\u001b[0;34m\u001b[0m\u001b[0;34m\u001b[0m\u001b[0m\n\u001b[0;32m--> 462\u001b[0;31m     \u001b[0mparser\u001b[0m \u001b[0;34m=\u001b[0m \u001b[0mTextFileReader\u001b[0m\u001b[0;34m(\u001b[0m\u001b[0mfilepath_or_buffer\u001b[0m\u001b[0;34m,\u001b[0m \u001b[0;34m**\u001b[0m\u001b[0mkwds\u001b[0m\u001b[0;34m)\u001b[0m\u001b[0;34m\u001b[0m\u001b[0;34m\u001b[0m\u001b[0m\n\u001b[0m\u001b[1;32m    463\u001b[0m \u001b[0;34m\u001b[0m\u001b[0m\n\u001b[1;32m    464\u001b[0m     \u001b[0;32mif\u001b[0m \u001b[0mchunksize\u001b[0m \u001b[0;32mor\u001b[0m \u001b[0miterator\u001b[0m\u001b[0;34m:\u001b[0m\u001b[0;34m\u001b[0m\u001b[0;34m\u001b[0m\u001b[0m\n",
      "\u001b[0;32m~/opt/anaconda3/lib/python3.8/site-packages/pandas/io/parsers.py\u001b[0m in \u001b[0;36m__init__\u001b[0;34m(self, f, engine, **kwds)\u001b[0m\n\u001b[1;32m    817\u001b[0m             \u001b[0mself\u001b[0m\u001b[0;34m.\u001b[0m\u001b[0moptions\u001b[0m\u001b[0;34m[\u001b[0m\u001b[0;34m\"has_index_names\"\u001b[0m\u001b[0;34m]\u001b[0m \u001b[0;34m=\u001b[0m \u001b[0mkwds\u001b[0m\u001b[0;34m[\u001b[0m\u001b[0;34m\"has_index_names\"\u001b[0m\u001b[0;34m]\u001b[0m\u001b[0;34m\u001b[0m\u001b[0;34m\u001b[0m\u001b[0m\n\u001b[1;32m    818\u001b[0m \u001b[0;34m\u001b[0m\u001b[0m\n\u001b[0;32m--> 819\u001b[0;31m         \u001b[0mself\u001b[0m\u001b[0;34m.\u001b[0m\u001b[0m_engine\u001b[0m \u001b[0;34m=\u001b[0m \u001b[0mself\u001b[0m\u001b[0;34m.\u001b[0m\u001b[0m_make_engine\u001b[0m\u001b[0;34m(\u001b[0m\u001b[0mself\u001b[0m\u001b[0;34m.\u001b[0m\u001b[0mengine\u001b[0m\u001b[0;34m)\u001b[0m\u001b[0;34m\u001b[0m\u001b[0;34m\u001b[0m\u001b[0m\n\u001b[0m\u001b[1;32m    820\u001b[0m \u001b[0;34m\u001b[0m\u001b[0m\n\u001b[1;32m    821\u001b[0m     \u001b[0;32mdef\u001b[0m \u001b[0mclose\u001b[0m\u001b[0;34m(\u001b[0m\u001b[0mself\u001b[0m\u001b[0;34m)\u001b[0m\u001b[0;34m:\u001b[0m\u001b[0;34m\u001b[0m\u001b[0;34m\u001b[0m\u001b[0m\n",
      "\u001b[0;32m~/opt/anaconda3/lib/python3.8/site-packages/pandas/io/parsers.py\u001b[0m in \u001b[0;36m_make_engine\u001b[0;34m(self, engine)\u001b[0m\n\u001b[1;32m   1048\u001b[0m             )\n\u001b[1;32m   1049\u001b[0m         \u001b[0;31m# error: Too many arguments for \"ParserBase\"\u001b[0m\u001b[0;34m\u001b[0m\u001b[0;34m\u001b[0m\u001b[0;34m\u001b[0m\u001b[0m\n\u001b[0;32m-> 1050\u001b[0;31m         \u001b[0;32mreturn\u001b[0m \u001b[0mmapping\u001b[0m\u001b[0;34m[\u001b[0m\u001b[0mengine\u001b[0m\u001b[0;34m]\u001b[0m\u001b[0;34m(\u001b[0m\u001b[0mself\u001b[0m\u001b[0;34m.\u001b[0m\u001b[0mf\u001b[0m\u001b[0;34m,\u001b[0m \u001b[0;34m**\u001b[0m\u001b[0mself\u001b[0m\u001b[0;34m.\u001b[0m\u001b[0moptions\u001b[0m\u001b[0;34m)\u001b[0m  \u001b[0;31m# type: ignore[call-arg]\u001b[0m\u001b[0;34m\u001b[0m\u001b[0;34m\u001b[0m\u001b[0m\n\u001b[0m\u001b[1;32m   1051\u001b[0m \u001b[0;34m\u001b[0m\u001b[0m\n\u001b[1;32m   1052\u001b[0m     \u001b[0;32mdef\u001b[0m \u001b[0m_failover_to_python\u001b[0m\u001b[0;34m(\u001b[0m\u001b[0mself\u001b[0m\u001b[0;34m)\u001b[0m\u001b[0;34m:\u001b[0m\u001b[0;34m\u001b[0m\u001b[0;34m\u001b[0m\u001b[0m\n",
      "\u001b[0;32m~/opt/anaconda3/lib/python3.8/site-packages/pandas/io/parsers.py\u001b[0m in \u001b[0;36m__init__\u001b[0;34m(self, src, **kwds)\u001b[0m\n\u001b[1;32m   1865\u001b[0m \u001b[0;34m\u001b[0m\u001b[0m\n\u001b[1;32m   1866\u001b[0m         \u001b[0;31m# open handles\u001b[0m\u001b[0;34m\u001b[0m\u001b[0;34m\u001b[0m\u001b[0;34m\u001b[0m\u001b[0m\n\u001b[0;32m-> 1867\u001b[0;31m         \u001b[0mself\u001b[0m\u001b[0;34m.\u001b[0m\u001b[0m_open_handles\u001b[0m\u001b[0;34m(\u001b[0m\u001b[0msrc\u001b[0m\u001b[0;34m,\u001b[0m \u001b[0mkwds\u001b[0m\u001b[0;34m)\u001b[0m\u001b[0;34m\u001b[0m\u001b[0;34m\u001b[0m\u001b[0m\n\u001b[0m\u001b[1;32m   1868\u001b[0m         \u001b[0;32massert\u001b[0m \u001b[0mself\u001b[0m\u001b[0;34m.\u001b[0m\u001b[0mhandles\u001b[0m \u001b[0;32mis\u001b[0m \u001b[0;32mnot\u001b[0m \u001b[0;32mNone\u001b[0m\u001b[0;34m\u001b[0m\u001b[0;34m\u001b[0m\u001b[0m\n\u001b[1;32m   1869\u001b[0m         \u001b[0;32mfor\u001b[0m \u001b[0mkey\u001b[0m \u001b[0;32min\u001b[0m \u001b[0;34m(\u001b[0m\u001b[0;34m\"storage_options\"\u001b[0m\u001b[0;34m,\u001b[0m \u001b[0;34m\"encoding\"\u001b[0m\u001b[0;34m,\u001b[0m \u001b[0;34m\"memory_map\"\u001b[0m\u001b[0;34m,\u001b[0m \u001b[0;34m\"compression\"\u001b[0m\u001b[0;34m)\u001b[0m\u001b[0;34m:\u001b[0m\u001b[0;34m\u001b[0m\u001b[0;34m\u001b[0m\u001b[0m\n",
      "\u001b[0;32m~/opt/anaconda3/lib/python3.8/site-packages/pandas/io/parsers.py\u001b[0m in \u001b[0;36m_open_handles\u001b[0;34m(self, src, kwds)\u001b[0m\n\u001b[1;32m   1360\u001b[0m         \u001b[0mLet\u001b[0m \u001b[0mthe\u001b[0m \u001b[0mreaders\u001b[0m \u001b[0mopen\u001b[0m \u001b[0mIOHanldes\u001b[0m \u001b[0mafter\u001b[0m \u001b[0mthey\u001b[0m \u001b[0mare\u001b[0m \u001b[0mdone\u001b[0m \u001b[0;32mwith\u001b[0m \u001b[0mtheir\u001b[0m \u001b[0mpotential\u001b[0m \u001b[0mraises\u001b[0m\u001b[0;34m.\u001b[0m\u001b[0;34m\u001b[0m\u001b[0;34m\u001b[0m\u001b[0m\n\u001b[1;32m   1361\u001b[0m         \"\"\"\n\u001b[0;32m-> 1362\u001b[0;31m         self.handles = get_handle(\n\u001b[0m\u001b[1;32m   1363\u001b[0m             \u001b[0msrc\u001b[0m\u001b[0;34m,\u001b[0m\u001b[0;34m\u001b[0m\u001b[0;34m\u001b[0m\u001b[0m\n\u001b[1;32m   1364\u001b[0m             \u001b[0;34m\"r\"\u001b[0m\u001b[0;34m,\u001b[0m\u001b[0;34m\u001b[0m\u001b[0;34m\u001b[0m\u001b[0m\n",
      "\u001b[0;32m~/opt/anaconda3/lib/python3.8/site-packages/pandas/io/common.py\u001b[0m in \u001b[0;36mget_handle\u001b[0;34m(path_or_buf, mode, encoding, compression, memory_map, is_text, errors, storage_options)\u001b[0m\n\u001b[1;32m    640\u001b[0m                 \u001b[0merrors\u001b[0m \u001b[0;34m=\u001b[0m \u001b[0;34m\"replace\"\u001b[0m\u001b[0;34m\u001b[0m\u001b[0;34m\u001b[0m\u001b[0m\n\u001b[1;32m    641\u001b[0m             \u001b[0;31m# Encoding\u001b[0m\u001b[0;34m\u001b[0m\u001b[0;34m\u001b[0m\u001b[0;34m\u001b[0m\u001b[0m\n\u001b[0;32m--> 642\u001b[0;31m             handle = open(\n\u001b[0m\u001b[1;32m    643\u001b[0m                 \u001b[0mhandle\u001b[0m\u001b[0;34m,\u001b[0m\u001b[0;34m\u001b[0m\u001b[0;34m\u001b[0m\u001b[0m\n\u001b[1;32m    644\u001b[0m                 \u001b[0mioargs\u001b[0m\u001b[0;34m.\u001b[0m\u001b[0mmode\u001b[0m\u001b[0;34m,\u001b[0m\u001b[0;34m\u001b[0m\u001b[0;34m\u001b[0m\u001b[0m\n",
      "\u001b[0;31mFileNotFoundError\u001b[0m: [Errno 2] No such file or directory: '/kaggle/input/santa-2021/permutations.csv'"
     ]
    }
   ],
   "source": [
    "permutations = pd.read_csv('/kaggle/input/santa-2021/permutations.csv')\n",
    "print(permutations.head(122))\n",
    "print(len(permutations))"
   ]
  },
  {
   "cell_type": "code",
   "execution_count": 3,
   "metadata": {
    "execution": {
     "iopub.execute_input": "2021-11-21T22:10:05.608400Z",
     "iopub.status.busy": "2021-11-21T22:10:05.607844Z",
     "iopub.status.idle": "2021-11-21T22:10:05.620111Z",
     "shell.execute_reply": "2021-11-21T22:10:05.619038Z",
     "shell.execute_reply.started": "2021-11-21T22:10:05.608353Z"
    }
   },
   "outputs": [],
   "source": [
    "permutations.iloc[0]"
   ]
  },
  {
   "cell_type": "code",
   "execution_count": 4,
   "metadata": {
    "execution": {
     "iopub.execute_input": "2021-11-21T22:10:10.811696Z",
     "iopub.status.busy": "2021-11-21T22:10:10.811384Z",
     "iopub.status.idle": "2021-11-21T22:10:10.818248Z",
     "shell.execute_reply": "2021-11-21T22:10:10.817237Z",
     "shell.execute_reply.started": "2021-11-21T22:10:10.811666Z"
    }
   },
   "outputs": [],
   "source": [
    "# the permutation at each position is a pandas series\n",
    "type(permutations.iloc[0])"
   ]
  },
  {
   "cell_type": "code",
   "execution_count": 5,
   "metadata": {
    "execution": {
     "iopub.execute_input": "2021-11-21T22:10:15.347065Z",
     "iopub.status.busy": "2021-11-21T22:10:15.346749Z",
     "iopub.status.idle": "2021-11-21T22:10:15.354509Z",
     "shell.execute_reply": "2021-11-21T22:10:15.353399Z",
     "shell.execute_reply.started": "2021-11-21T22:10:15.347033Z"
    }
   },
   "outputs": [],
   "source": [
    "# a series object with all elements in the first position\n",
    "permutations.iloc[0][0]"
   ]
  },
  {
   "cell_type": "code",
   "execution_count": 6,
   "metadata": {
    "execution": {
     "iopub.execute_input": "2021-11-21T22:10:16.159483Z",
     "iopub.status.busy": "2021-11-21T22:10:16.158676Z",
     "iopub.status.idle": "2021-11-21T22:10:16.167541Z",
     "shell.execute_reply": "2021-11-21T22:10:16.166111Z",
     "shell.execute_reply.started": "2021-11-21T22:10:16.159438Z"
    }
   },
   "outputs": [],
   "source": [
    "# the series object contains a string in the first position\n",
    "type(permutations.iloc[0][0])"
   ]
  },
  {
   "cell_type": "code",
   "execution_count": 7,
   "metadata": {
    "execution": {
     "iopub.execute_input": "2021-11-21T22:10:16.565640Z",
     "iopub.status.busy": "2021-11-21T22:10:16.564844Z",
     "iopub.status.idle": "2021-11-21T22:10:16.572580Z",
     "shell.execute_reply": "2021-11-21T22:10:16.571422Z",
     "shell.execute_reply.started": "2021-11-21T22:10:16.565602Z"
    }
   },
   "outputs": [],
   "source": [
    "# we can index into each string element\n",
    "permutations.iloc[0][0][0]"
   ]
  },
  {
   "cell_type": "code",
   "execution_count": 8,
   "metadata": {
    "execution": {
     "iopub.execute_input": "2021-11-21T22:10:17.418735Z",
     "iopub.status.busy": "2021-11-21T22:10:17.418067Z",
     "iopub.status.idle": "2021-11-21T22:10:17.426233Z",
     "shell.execute_reply": "2021-11-21T22:10:17.425385Z",
     "shell.execute_reply.started": "2021-11-21T22:10:17.418691Z"
    }
   },
   "outputs": [],
   "source": [
    "# we can use equality operators for string comparisons\n",
    "permutations.iloc[0][0][0] == permutations.iloc[0][0][0]"
   ]
  },
  {
   "cell_type": "code",
   "execution_count": 9,
   "metadata": {
    "execution": {
     "iopub.execute_input": "2021-11-21T22:10:18.371820Z",
     "iopub.status.busy": "2021-11-21T22:10:18.371519Z",
     "iopub.status.idle": "2021-11-21T22:10:18.378650Z",
     "shell.execute_reply": "2021-11-21T22:10:18.378072Z",
     "shell.execute_reply.started": "2021-11-21T22:10:18.371775Z"
    }
   },
   "outputs": [],
   "source": [
    "permutations.iloc[0][0][0] == permutations.iloc[0][0][1]"
   ]
  },
  {
   "cell_type": "markdown",
   "metadata": {},
   "source": [
    "We are given a distance matrix that shows the number of character changes across all permutations"
   ]
  },
  {
   "cell_type": "code",
   "execution_count": 10,
   "metadata": {
    "execution": {
     "iopub.execute_input": "2021-11-21T22:11:06.921034Z",
     "iopub.status.busy": "2021-11-21T22:11:06.920326Z",
     "iopub.status.idle": "2021-11-21T22:11:12.344502Z",
     "shell.execute_reply": "2021-11-21T22:11:12.342908Z",
     "shell.execute_reply.started": "2021-11-21T22:11:06.921000Z"
    }
   },
   "outputs": [],
   "source": [
    "distance_matrix = pd.read_csv('/kaggle/input/santa-2021/distance_matrix.csv')\n",
    "distance_matrix.head()"
   ]
  },
  {
   "cell_type": "markdown",
   "metadata": {},
   "source": [
    "We are allowed to use two wildcards (🌟) in our string"
   ]
  },
  {
   "cell_type": "code",
   "execution_count": 11,
   "metadata": {
    "execution": {
     "iopub.execute_input": "2021-11-21T22:11:41.170491Z",
     "iopub.status.busy": "2021-11-21T22:11:41.170183Z",
     "iopub.status.idle": "2021-11-21T22:11:41.260807Z",
     "shell.execute_reply": "2021-11-21T22:11:41.259717Z",
     "shell.execute_reply.started": "2021-11-21T22:11:41.170460Z"
    }
   },
   "outputs": [],
   "source": [
    "wildcards = pd.read_csv('/kaggle/input/santa-2021/wildcards.csv')\n",
    "wildcards.head(8)"
   ]
  },
  {
   "cell_type": "markdown",
   "metadata": {},
   "source": [
    "This is waht a submission should look like"
   ]
  },
  {
   "cell_type": "code",
   "execution_count": 12,
   "metadata": {
    "execution": {
     "iopub.execute_input": "2021-11-21T22:11:55.107922Z",
     "iopub.status.busy": "2021-11-21T22:11:55.106840Z",
     "iopub.status.idle": "2021-11-21T22:11:55.128410Z",
     "shell.execute_reply": "2021-11-21T22:11:55.127370Z",
     "shell.execute_reply.started": "2021-11-21T22:11:55.107880Z"
    }
   },
   "outputs": [],
   "source": [
    "sample_submission = pd.read_csv('/kaggle/input/santa-2021/sample_submission.csv')\n",
    "sample_submission"
   ]
  },
  {
   "cell_type": "code",
   "execution_count": null,
   "metadata": {},
   "outputs": [],
   "source": [
    "#TODO: sample submission baseline is 6985"
   ]
  },
  {
   "cell_type": "code",
   "execution_count": 13,
   "metadata": {
    "execution": {
     "iopub.execute_input": "2021-11-21T22:12:14.388447Z",
     "iopub.status.busy": "2021-11-21T22:12:14.388129Z",
     "iopub.status.idle": "2021-11-21T22:12:14.396111Z",
     "shell.execute_reply": "2021-11-21T22:12:14.395103Z",
     "shell.execute_reply.started": "2021-11-21T22:12:14.388415Z"
    }
   },
   "outputs": [],
   "source": [
    "# we should be able to do better than 3,497 for a baseline\n",
    "len(sample_submission.iloc[0][0])"
   ]
  },
  {
   "cell_type": "markdown",
   "metadata": {},
   "source": [
    "## A Simple Brute Force Approach (no wildcards)\n",
    "Since there are only 5,040 permutation, we are going to begin by constructinge a simple brute force approach. \\\n",
    "For every permutation that starts with 🎅, 🤶 add the permutation (from the remaining permutations to add) that results in the shortest string. Return the shortest overall string."
   ]
  },
  {
   "cell_type": "code",
   "execution_count": null,
   "metadata": {
    "execution": {
     "iopub.status.busy": "2021-11-21T18:14:55.610692Z",
     "iopub.status.idle": "2021-11-21T18:14:55.611703Z",
     "shell.execute_reply": "2021-11-21T18:14:55.611455Z",
     "shell.execute_reply.started": "2021-11-21T18:14:55.611417Z"
    }
   },
   "outputs": [],
   "source": [
    "# since there are 5 spots after 🎅, 🤶 and we cannot repeat symbols\n",
    "# we can calcualte the number of permutations that start with 🎅, 🤶  with 5!\n",
    "math.factorial(5)"
   ]
  },
  {
   "cell_type": "code",
   "execution_count": 18,
   "metadata": {
    "execution": {
     "iopub.execute_input": "2021-11-21T22:15:34.324092Z",
     "iopub.status.busy": "2021-11-21T22:15:34.323502Z",
     "iopub.status.idle": "2021-11-21T22:15:34.331638Z",
     "shell.execute_reply": "2021-11-21T22:15:34.330964Z",
     "shell.execute_reply.started": "2021-11-21T22:15:34.324058Z"
    }
   },
   "outputs": [],
   "source": [
    "# get all permutations\n",
    "permutations_list = permutations.values.tolist()\n",
    "# flatten out the permutations list to change from list of lists to list of strings\n",
    "permutations_list = [item for sublist in permutations_list for item in sublist]\n",
    "# all of the potential starting poitns for the final list\n",
    "list_of_candidates = permutations_list[:math.factorial(5)]"
   ]
  },
  {
   "cell_type": "code",
   "execution_count": 22,
   "metadata": {
    "execution": {
     "iopub.execute_input": "2021-11-21T22:16:46.185186Z",
     "iopub.status.busy": "2021-11-21T22:16:46.184907Z",
     "iopub.status.idle": "2021-11-21T22:16:46.190437Z",
     "shell.execute_reply": "2021-11-21T22:16:46.189589Z",
     "shell.execute_reply.started": "2021-11-21T22:16:46.185155Z"
    }
   },
   "outputs": [],
   "source": [
    "# get the number of characters added to sequence1 by overlapping sequence2\n",
    "def get_added_length(sequence1, sequence2):\n",
    "    for i in range(1, len(sequence2)):\n",
    "        # best solution: ends with everything except the last character\n",
    "        if sequence1.endswith(sequence2[:-i]):\n",
    "            return i\n",
    "    # otherwise return the entire length of the sequence; no overlap\n",
    "    return len(sequence2)"
   ]
  },
  {
   "cell_type": "markdown",
   "metadata": {},
   "source": [
    "**One run through**: comparing all of the available permutations to add to the candidate permutations (ones that start with 🎅, 🤶) and adding the one that results in the shortest total added length to the candidate string"
   ]
  },
  {
   "cell_type": "code",
   "execution_count": 23,
   "metadata": {
    "execution": {
     "iopub.execute_input": "2021-11-21T22:16:47.027721Z",
     "iopub.status.busy": "2021-11-21T22:16:47.026728Z",
     "iopub.status.idle": "2021-11-21T22:16:48.628788Z",
     "shell.execute_reply": "2021-11-21T22:16:48.627855Z",
     "shell.execute_reply.started": "2021-11-21T22:16:47.027685Z"
    }
   },
   "outputs": [],
   "source": [
    "i = 0\n",
    "new_list = []\n",
    "permutations_to_add = permutations_list\n",
    "for current_sequence in list_of_candidates:\n",
    "    # only print first 10 results\n",
    "    if i < 10:\n",
    "        print(f\"First Candidate Sequence: {current_sequence}\")\n",
    "    best_permutation = None\n",
    "    best_added_length = 7\n",
    "    for permutation in permutations_to_add:\n",
    "        # check if already in sequence\n",
    "        if operator.contains(current_sequence, permutation):\n",
    "            permutations_to_add.remove(permutation)\n",
    "            continue\n",
    "        added_length = get_added_length(current_sequence, permutation)\n",
    "        if added_length < best_added_length:\n",
    "            best_added_length = added_length\n",
    "            best_permutation = permutation\n",
    "    if i < 10:\n",
    "        print(f\"Best Permutation: {best_permutation}\")\n",
    "        print(f\"String to append: {best_permutation[-best_added_length:]}\")\n",
    "        print(f\"New Sequence: {current_sequence + best_permutation[-best_added_length:]}\")\n",
    "    new_list.append(current_sequence + best_permutation[-best_added_length:])\n",
    "    permutations_to_add.remove(best_permutation)\n",
    "    i += 1\n",
    "        "
   ]
  },
  {
   "cell_type": "markdown",
   "metadata": {
    "execution": {
     "iopub.execute_input": "2021-11-21T18:14:57.85924Z",
     "iopub.status.busy": "2021-11-21T18:14:57.858978Z",
     "iopub.status.idle": "2021-11-21T18:14:57.8677Z",
     "shell.execute_reply": "2021-11-21T18:14:57.867105Z",
     "shell.execute_reply.started": "2021-11-21T18:14:57.859211Z"
    }
   },
   "source": [
    "It would take a very long time to brute force this search over all candidates. This approach is not efficient or scalable. What if we had 5,000,000 instead of 5,040 permutations? What if the if the first two positions were not fixed and we had to search over all of the permutations? What if we incorporated wild cards? Can we come up with a way to search this space in a greedy manner?"
   ]
  },
  {
   "cell_type": "code",
   "execution_count": 26,
   "metadata": {
    "execution": {
     "iopub.execute_input": "2021-11-21T22:20:27.187972Z",
     "iopub.status.busy": "2021-11-21T22:20:27.187662Z",
     "iopub.status.idle": "2021-11-21T22:20:27.195230Z",
     "shell.execute_reply": "2021-11-21T22:20:27.194360Z",
     "shell.execute_reply.started": "2021-11-21T22:20:27.187941Z"
    }
   },
   "outputs": [],
   "source": [
    "permutations_list = permutations.values.tolist()\n",
    "permutations_list = [item for sublist in permutations_list for item in sublist]\n",
    "list_of_candidates = permutations_list[:math.factorial(5)]"
   ]
  },
  {
   "cell_type": "code",
   "execution_count": 27,
   "metadata": {
    "execution": {
     "iopub.execute_input": "2021-11-21T22:20:27.430315Z",
     "iopub.status.busy": "2021-11-21T22:20:27.429645Z",
     "iopub.status.idle": "2021-11-21T22:21:20.709342Z",
     "shell.execute_reply": "2021-11-21T22:21:20.708258Z",
     "shell.execute_reply.started": "2021-11-21T22:20:27.430254Z"
    }
   },
   "outputs": [],
   "source": [
    "# For each potential starting string generate a candidate output\n",
    "start = time.time()\n",
    "for i in range(0, 20):\n",
    "    start_candidate_sequence = time.time()\n",
    "    current_sequence = list_of_candidates[i]\n",
    "    print(f\"Processing Candidate #{i}: {current_sequence}\")\n",
    "    # candidate string must contain all of the permutations\n",
    "    permutations_remaining = permutations_list.copy()\n",
    "    permutations_remaining.remove(current_sequence)\n",
    "    print(f\"{len(permutations_remaining)} permutations to add\")\n",
    "    while len(permutations_remaining) > 0:\n",
    "        if len(permutations_remaining) % 1000 == 0:\n",
    "#             print(f\"    current string length: {len(current_sequence)}\")\n",
    "            print(f\"    Permutations remaining... {len(permutations_remaining)}\")\n",
    "        best_permutation = permutations_remaining[0]\n",
    "        best_added_length = 7\n",
    "        for permutation in permutations_remaining:\n",
    "            # check if already in sequence\n",
    "            if operator.contains(current_sequence, permutation):\n",
    "                permutations_remaining.remove(permutation)\n",
    "                continue\n",
    "            added_length = get_added_length(current_sequence, permutation)\n",
    "            if added_length < best_added_length:\n",
    "                best_added_length = added_length\n",
    "                best_permutation = permutation\n",
    "        current_sequence = (current_sequence + best_permutation[-best_added_length:])\n",
    "        permutations_remaining.remove(best_permutation)\n",
    "    list_of_candidates[i] = current_sequence\n",
    "    print(f\"    Candidate processed!\")\n",
    "    print(f\"    Total Permutation length: {len(current_sequence)}\")\n",
    "    # Test that all substrings are part of the lists\n",
    "    print(f\"    All permutations are included: {all(substring in current_sequence for substring in permutations_list)}\")\n",
    "    end_candidate_sequence = time.time()\n",
    "    print(f\"Time to process candidate: {round(end_candidate_sequence - start_candidate_sequence)} seconds\\n\")\n",
    "end = time.time()\n",
    "print(f\"Total time to process 20 candidates: {round(end - start)/60} minutes\")"
   ]
  },
  {
   "cell_type": "code",
   "execution_count": null,
   "metadata": {
    "execution": {
     "iopub.execute_input": "2021-11-21T19:25:10.110224Z",
     "iopub.status.busy": "2021-11-21T19:25:10.109913Z",
     "iopub.status.idle": "2021-11-21T19:25:10.118228Z",
     "shell.execute_reply": "2021-11-21T19:25:10.117002Z",
     "shell.execute_reply.started": "2021-11-21T19:25:10.110188Z"
    }
   },
   "outputs": [],
   "source": [
    "# the shortest list of these 20 candidates is 5,913\n",
    "# but it's only 1/6 of our potential candidates for submission\n",
    "len(min(list_of_candidates[:20], key=len))"
   ]
  },
  {
   "cell_type": "code",
   "execution_count": null,
   "metadata": {
    "execution": {
     "iopub.execute_input": "2021-11-21T19:28:42.091606Z",
     "iopub.status.busy": "2021-11-21T19:28:42.09081Z",
     "iopub.status.idle": "2021-11-21T19:28:42.09683Z",
     "shell.execute_reply": "2021-11-21T19:28:42.095895Z",
     "shell.execute_reply.started": "2021-11-21T19:28:42.091578Z"
    }
   },
   "outputs": [],
   "source": [
    "# indexes 0, 6, and 8 have thes shortest strings\n",
    "# Our score will be the largest, 5,950\n",
    "results = [(len(candidate), list_of_candidates.index(candidate)) for candidate in list_of_candidates[:20]]\n",
    "results.sort()\n",
    "print(results)"
   ]
  },
  {
   "cell_type": "markdown",
   "metadata": {},
   "source": [
    "# Baseline Submission\n",
    "Let's generate a submission that's above the sample submission. This will serve as our new baseline"
   ]
  },
  {
   "cell_type": "code",
   "execution_count": null,
   "metadata": {
    "execution": {
     "iopub.execute_input": "2021-11-21T19:38:14.969272Z",
     "iopub.status.busy": "2021-11-21T19:38:14.968921Z",
     "iopub.status.idle": "2021-11-21T19:38:14.9748Z",
     "shell.execute_reply": "2021-11-21T19:38:14.973928Z",
     "shell.execute_reply.started": "2021-11-21T19:38:14.969244Z"
    }
   },
   "outputs": [],
   "source": [
    "baseline_submission = pd.DataFrame(data={\"schedule\": [list_of_candidates[0], list_of_candidates[6], list_of_candidates[8]]})"
   ]
  },
  {
   "cell_type": "code",
   "execution_count": null,
   "metadata": {},
   "outputs": [],
   "source": [
    "baseline_submission.head()"
   ]
  },
  {
   "cell_type": "code",
   "execution_count": null,
   "metadata": {},
   "outputs": [],
   "source": [
    "baseline_submission.to_csv(\"submission.csv\", sep=',',index=False)"
   ]
  },
  {
   "cell_type": "markdown",
   "metadata": {},
   "source": [
    "# Recursion\n",
    "\n",
    "But first, can we simplify our method with recursion?"
   ]
  },
  {
   "cell_type": "code",
   "execution_count": null,
   "metadata": {},
   "outputs": [],
   "source": []
  },
  {
   "cell_type": "markdown",
   "metadata": {},
   "source": [
    "# Using the Distance Matrix\n",
    "\n",
    "What are ways in which we can reduce the search space in our brute force approach?\n",
    "1. Order searches by using the distance matrix\n",
    "2. "
   ]
  },
  {
   "cell_type": "code",
   "execution_count": null,
   "metadata": {},
   "outputs": [],
   "source": []
  },
  {
   "cell_type": "markdown",
   "metadata": {},
   "source": [
    "# With Wildcards\n",
    "TODO: add the beggingin wild cards to the starting permutations"
   ]
  },
  {
   "cell_type": "code",
   "execution_count": null,
   "metadata": {},
   "outputs": [],
   "source": []
  },
  {
   "cell_type": "markdown",
   "metadata": {},
   "source": [
    "# Shortest Common Super String"
   ]
  },
  {
   "cell_type": "code",
   "execution_count": null,
   "metadata": {},
   "outputs": [],
   "source": []
  }
 ],
 "metadata": {
  "kernelspec": {
   "display_name": "Python 3",
   "language": "python",
   "name": "python3"
  },
  "language_info": {
   "codemirror_mode": {
    "name": "ipython",
    "version": 3
   },
   "file_extension": ".py",
   "mimetype": "text/x-python",
   "name": "python",
   "nbconvert_exporter": "python",
   "pygments_lexer": "ipython3",
   "version": "3.8.8"
  }
 },
 "nbformat": 4,
 "nbformat_minor": 4
}
